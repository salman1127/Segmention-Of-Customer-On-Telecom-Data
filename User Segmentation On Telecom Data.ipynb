{
 "cells": [
  {
   "cell_type": "code",
   "execution_count": 1,
   "metadata": {},
   "outputs": [],
   "source": [
    "import pandas as pd\n",
    "import numpy as np\n",
    "from sklearn.cluster import KMeans\n",
    "from sklearn import metrics \n",
    "import matplotlib.pyplot as plt\n",
    "import seaborn as sns\n",
    "sns.set()\n",
    "%matplotlib inline"
   ]
  },
  {
   "cell_type": "code",
   "execution_count": 2,
   "metadata": {},
   "outputs": [],
   "source": [
    "#import excel file\n",
    "data = pd.read_excel(\"Sample_data.xlsx\")\n",
    "df=data.copy()"
   ]
  },
  {
   "cell_type": "markdown",
   "metadata": {},
   "source": [
    "<h4 style=\"color:red;\">Task1 : Some Basic Operations on Data Frame </h4>"
   ]
  },
  {
   "cell_type": "markdown",
   "metadata": {},
   "source": [
    "- Show first five record of data frame\n",
    "- Show last five record of data frame\n",
    "- Show shape of the data frame\n",
    "- Calculate the sum of null values against each column\n",
    "- Fill up null values with 0, all nan and ? values\n",
    "- Convert object columns data type to integer or float\n"
   ]
  },
  {
   "cell_type": "code",
   "execution_count": 3,
   "metadata": {},
   "outputs": [
    {
     "data": {
      "text/html": [
       "<div>\n",
       "<style scoped>\n",
       "    .dataframe tbody tr th:only-of-type {\n",
       "        vertical-align: middle;\n",
       "    }\n",
       "\n",
       "    .dataframe tbody tr th {\n",
       "        vertical-align: top;\n",
       "    }\n",
       "\n",
       "    .dataframe thead th {\n",
       "        text-align: right;\n",
       "    }\n",
       "</style>\n",
       "<table border=\"1\" class=\"dataframe\">\n",
       "  <thead>\n",
       "    <tr style=\"text-align: right;\">\n",
       "      <th></th>\n",
       "      <th>Unnamed: 0</th>\n",
       "      <th>Customer ID</th>\n",
       "      <th>U_OB_VC_CNT_T6</th>\n",
       "      <th>U_OB_VC_CC_CNT_T6</th>\n",
       "      <th>U_OB_VC_DUR_T6</th>\n",
       "      <th>U_OB_VC_REV_T6</th>\n",
       "      <th>U_OB_DAY_VC_CNT_T6</th>\n",
       "      <th>U_OB_DAY_VC_CC_CNT_T6</th>\n",
       "      <th>U_OB_DAY_VC_DUR_T6</th>\n",
       "      <th>U_OB_DAY_VC_REV_T6</th>\n",
       "      <th>...</th>\n",
       "      <th>RECH_750_1000_AMT_T6</th>\n",
       "      <th>RECH_750_1000_CNT_T6</th>\n",
       "      <th>RECH_GT_1000_AMT_T6</th>\n",
       "      <th>RECH_GT_1000_CNT_T6</th>\n",
       "      <th>RECEIVE_AMT_T6</th>\n",
       "      <th>RECEIVE_CNT_T6</th>\n",
       "      <th>SHARE_AMT_T6</th>\n",
       "      <th>SHARE_CNT_T6</th>\n",
       "      <th>LOAN_AMT_T6</th>\n",
       "      <th>LOAN_CNT_T6</th>\n",
       "    </tr>\n",
       "  </thead>\n",
       "  <tbody>\n",
       "    <tr>\n",
       "      <th>0</th>\n",
       "      <td>NaN</td>\n",
       "      <td>1</td>\n",
       "      <td>157</td>\n",
       "      <td>88</td>\n",
       "      <td>379.0</td>\n",
       "      <td>230.070</td>\n",
       "      <td>103</td>\n",
       "      <td>62</td>\n",
       "      <td>207.0</td>\n",
       "      <td>128.794</td>\n",
       "      <td>...</td>\n",
       "      <td>0</td>\n",
       "      <td>0</td>\n",
       "      <td>0</td>\n",
       "      <td>0</td>\n",
       "      <td>0</td>\n",
       "      <td>0</td>\n",
       "      <td>0</td>\n",
       "      <td>0</td>\n",
       "      <td>45</td>\n",
       "      <td>3</td>\n",
       "    </tr>\n",
       "    <tr>\n",
       "      <th>1</th>\n",
       "      <td>NaN</td>\n",
       "      <td>2</td>\n",
       "      <td>41</td>\n",
       "      <td>38</td>\n",
       "      <td>132.5</td>\n",
       "      <td>137.276</td>\n",
       "      <td>17</td>\n",
       "      <td>14</td>\n",
       "      <td>65.0</td>\n",
       "      <td>77.824</td>\n",
       "      <td>...</td>\n",
       "      <td>0</td>\n",
       "      <td>0</td>\n",
       "      <td>0</td>\n",
       "      <td>0</td>\n",
       "      <td>25.523</td>\n",
       "      <td>1</td>\n",
       "      <td>0</td>\n",
       "      <td>0</td>\n",
       "      <td>60</td>\n",
       "      <td>4</td>\n",
       "    </tr>\n",
       "  </tbody>\n",
       "</table>\n",
       "<p>2 rows × 475 columns</p>\n",
       "</div>"
      ],
      "text/plain": [
       "   Unnamed: 0  Customer ID  U_OB_VC_CNT_T6  U_OB_VC_CC_CNT_T6  U_OB_VC_DUR_T6  \\\n",
       "0         NaN            1             157                 88           379.0   \n",
       "1         NaN            2              41                 38           132.5   \n",
       "\n",
       "   U_OB_VC_REV_T6  U_OB_DAY_VC_CNT_T6  U_OB_DAY_VC_CC_CNT_T6  \\\n",
       "0         230.070                 103                     62   \n",
       "1         137.276                  17                     14   \n",
       "\n",
       "   U_OB_DAY_VC_DUR_T6  U_OB_DAY_VC_REV_T6  ...  RECH_750_1000_AMT_T6  \\\n",
       "0               207.0             128.794  ...                     0   \n",
       "1                65.0              77.824  ...                     0   \n",
       "\n",
       "   RECH_750_1000_CNT_T6  RECH_GT_1000_AMT_T6  RECH_GT_1000_CNT_T6  \\\n",
       "0                     0                    0                    0   \n",
       "1                     0                    0                    0   \n",
       "\n",
       "   RECEIVE_AMT_T6  RECEIVE_CNT_T6  SHARE_AMT_T6  SHARE_CNT_T6  LOAN_AMT_T6  \\\n",
       "0               0               0             0             0           45   \n",
       "1          25.523               1             0             0           60   \n",
       "\n",
       "   LOAN_CNT_T6  \n",
       "0            3  \n",
       "1            4  \n",
       "\n",
       "[2 rows x 475 columns]"
      ]
     },
     "execution_count": 3,
     "metadata": {},
     "output_type": "execute_result"
    }
   ],
   "source": [
    "df.head(2)"
   ]
  },
  {
   "cell_type": "code",
   "execution_count": 4,
   "metadata": {},
   "outputs": [],
   "source": [
    "df.set_index('Customer ID', inplace=True)"
   ]
  },
  {
   "cell_type": "code",
   "execution_count": 5,
   "metadata": {},
   "outputs": [
    {
     "data": {
      "text/plain": [
       "Index(['Unnamed: 0', 'U_OB_VC_CNT_T6', 'U_OB_VC_CC_CNT_T6', 'U_OB_VC_DUR_T6',\n",
       "       'U_OB_VC_REV_T6', 'U_OB_DAY_VC_CNT_T6', 'U_OB_DAY_VC_CC_CNT_T6',\n",
       "       'U_OB_DAY_VC_DUR_T6', 'U_OB_DAY_VC_REV_T6', 'U_OB_EVN_VC_CNT_T6',\n",
       "       ...\n",
       "       'RECH_750_1000_AMT_T6', 'RECH_750_1000_CNT_T6', 'RECH_GT_1000_AMT_T6',\n",
       "       'RECH_GT_1000_CNT_T6', 'RECEIVE_AMT_T6', 'RECEIVE_CNT_T6',\n",
       "       'SHARE_AMT_T6', 'SHARE_CNT_T6', 'LOAN_AMT_T6', 'LOAN_CNT_T6'],\n",
       "      dtype='object', length=474)"
      ]
     },
     "execution_count": 5,
     "metadata": {},
     "output_type": "execute_result"
    }
   ],
   "source": [
    "df.columns"
   ]
  },
  {
   "cell_type": "code",
   "execution_count": 6,
   "metadata": {},
   "outputs": [],
   "source": [
    "df.drop('Unnamed: 0',axis = 1, inplace = True)"
   ]
  },
  {
   "cell_type": "code",
   "execution_count": 7,
   "metadata": {},
   "outputs": [
    {
     "data": {
      "text/html": [
       "<div>\n",
       "<style scoped>\n",
       "    .dataframe tbody tr th:only-of-type {\n",
       "        vertical-align: middle;\n",
       "    }\n",
       "\n",
       "    .dataframe tbody tr th {\n",
       "        vertical-align: top;\n",
       "    }\n",
       "\n",
       "    .dataframe thead th {\n",
       "        text-align: right;\n",
       "    }\n",
       "</style>\n",
       "<table border=\"1\" class=\"dataframe\">\n",
       "  <thead>\n",
       "    <tr style=\"text-align: right;\">\n",
       "      <th></th>\n",
       "      <th>U_OB_VC_CNT_T6</th>\n",
       "      <th>U_OB_VC_CC_CNT_T6</th>\n",
       "      <th>U_OB_VC_DUR_T6</th>\n",
       "      <th>U_OB_VC_REV_T6</th>\n",
       "      <th>U_OB_DAY_VC_CNT_T6</th>\n",
       "      <th>U_OB_DAY_VC_CC_CNT_T6</th>\n",
       "      <th>U_OB_DAY_VC_DUR_T6</th>\n",
       "      <th>U_OB_DAY_VC_REV_T6</th>\n",
       "      <th>U_OB_EVN_VC_CNT_T6</th>\n",
       "      <th>U_OB_EVN_VC_CC_CNT_T6</th>\n",
       "      <th>...</th>\n",
       "      <th>RECH_750_1000_AMT_T6</th>\n",
       "      <th>RECH_750_1000_CNT_T6</th>\n",
       "      <th>RECH_GT_1000_AMT_T6</th>\n",
       "      <th>RECH_GT_1000_CNT_T6</th>\n",
       "      <th>RECEIVE_AMT_T6</th>\n",
       "      <th>RECEIVE_CNT_T6</th>\n",
       "      <th>SHARE_AMT_T6</th>\n",
       "      <th>SHARE_CNT_T6</th>\n",
       "      <th>LOAN_AMT_T6</th>\n",
       "      <th>LOAN_CNT_T6</th>\n",
       "    </tr>\n",
       "    <tr>\n",
       "      <th>Customer ID</th>\n",
       "      <th></th>\n",
       "      <th></th>\n",
       "      <th></th>\n",
       "      <th></th>\n",
       "      <th></th>\n",
       "      <th></th>\n",
       "      <th></th>\n",
       "      <th></th>\n",
       "      <th></th>\n",
       "      <th></th>\n",
       "      <th></th>\n",
       "      <th></th>\n",
       "      <th></th>\n",
       "      <th></th>\n",
       "      <th></th>\n",
       "      <th></th>\n",
       "      <th></th>\n",
       "      <th></th>\n",
       "      <th></th>\n",
       "      <th></th>\n",
       "      <th></th>\n",
       "    </tr>\n",
       "  </thead>\n",
       "  <tbody>\n",
       "    <tr>\n",
       "      <th>1</th>\n",
       "      <td>157</td>\n",
       "      <td>88</td>\n",
       "      <td>379.0</td>\n",
       "      <td>230.070</td>\n",
       "      <td>103</td>\n",
       "      <td>62</td>\n",
       "      <td>207.0</td>\n",
       "      <td>128.794</td>\n",
       "      <td>51</td>\n",
       "      <td>31</td>\n",
       "      <td>...</td>\n",
       "      <td>0</td>\n",
       "      <td>0</td>\n",
       "      <td>0</td>\n",
       "      <td>0</td>\n",
       "      <td>0</td>\n",
       "      <td>0</td>\n",
       "      <td>0</td>\n",
       "      <td>0</td>\n",
       "      <td>45</td>\n",
       "      <td>3</td>\n",
       "    </tr>\n",
       "    <tr>\n",
       "      <th>2</th>\n",
       "      <td>41</td>\n",
       "      <td>38</td>\n",
       "      <td>132.5</td>\n",
       "      <td>137.276</td>\n",
       "      <td>17</td>\n",
       "      <td>14</td>\n",
       "      <td>65.0</td>\n",
       "      <td>77.824</td>\n",
       "      <td>23</td>\n",
       "      <td>23</td>\n",
       "      <td>...</td>\n",
       "      <td>0</td>\n",
       "      <td>0</td>\n",
       "      <td>0</td>\n",
       "      <td>0</td>\n",
       "      <td>25.523</td>\n",
       "      <td>1</td>\n",
       "      <td>0</td>\n",
       "      <td>0</td>\n",
       "      <td>60</td>\n",
       "      <td>4</td>\n",
       "    </tr>\n",
       "    <tr>\n",
       "      <th>3</th>\n",
       "      <td>321</td>\n",
       "      <td>185</td>\n",
       "      <td>274.5</td>\n",
       "      <td>98.422</td>\n",
       "      <td>249</td>\n",
       "      <td>150</td>\n",
       "      <td>204.0</td>\n",
       "      <td>49.151</td>\n",
       "      <td>69</td>\n",
       "      <td>44</td>\n",
       "      <td>...</td>\n",
       "      <td>0</td>\n",
       "      <td>0</td>\n",
       "      <td>0</td>\n",
       "      <td>0</td>\n",
       "      <td>0</td>\n",
       "      <td>0</td>\n",
       "      <td>0</td>\n",
       "      <td>0</td>\n",
       "      <td>0</td>\n",
       "      <td>0</td>\n",
       "    </tr>\n",
       "    <tr>\n",
       "      <th>4</th>\n",
       "      <td>11</td>\n",
       "      <td>6</td>\n",
       "      <td>172.5</td>\n",
       "      <td>7.587</td>\n",
       "      <td>1</td>\n",
       "      <td>1</td>\n",
       "      <td>2.0</td>\n",
       "      <td>0.149</td>\n",
       "      <td>10</td>\n",
       "      <td>6</td>\n",
       "      <td>...</td>\n",
       "      <td>0</td>\n",
       "      <td>0</td>\n",
       "      <td>0</td>\n",
       "      <td>0</td>\n",
       "      <td>0</td>\n",
       "      <td>0</td>\n",
       "      <td>0</td>\n",
       "      <td>0</td>\n",
       "      <td>0</td>\n",
       "      <td>0</td>\n",
       "    </tr>\n",
       "    <tr>\n",
       "      <th>5</th>\n",
       "      <td>313</td>\n",
       "      <td>220</td>\n",
       "      <td>2888.0</td>\n",
       "      <td>52.915</td>\n",
       "      <td>170</td>\n",
       "      <td>131</td>\n",
       "      <td>791.0</td>\n",
       "      <td>29.699</td>\n",
       "      <td>132</td>\n",
       "      <td>100</td>\n",
       "      <td>...</td>\n",
       "      <td>0</td>\n",
       "      <td>0</td>\n",
       "      <td>0</td>\n",
       "      <td>0</td>\n",
       "      <td>0</td>\n",
       "      <td>0</td>\n",
       "      <td>0</td>\n",
       "      <td>0</td>\n",
       "      <td>15</td>\n",
       "      <td>1</td>\n",
       "    </tr>\n",
       "  </tbody>\n",
       "</table>\n",
       "<p>5 rows × 473 columns</p>\n",
       "</div>"
      ],
      "text/plain": [
       "             U_OB_VC_CNT_T6  U_OB_VC_CC_CNT_T6  U_OB_VC_DUR_T6  \\\n",
       "Customer ID                                                      \n",
       "1                       157                 88           379.0   \n",
       "2                        41                 38           132.5   \n",
       "3                       321                185           274.5   \n",
       "4                        11                  6           172.5   \n",
       "5                       313                220          2888.0   \n",
       "\n",
       "             U_OB_VC_REV_T6  U_OB_DAY_VC_CNT_T6  U_OB_DAY_VC_CC_CNT_T6  \\\n",
       "Customer ID                                                              \n",
       "1                   230.070                 103                     62   \n",
       "2                   137.276                  17                     14   \n",
       "3                    98.422                 249                    150   \n",
       "4                     7.587                   1                      1   \n",
       "5                    52.915                 170                    131   \n",
       "\n",
       "             U_OB_DAY_VC_DUR_T6  U_OB_DAY_VC_REV_T6  U_OB_EVN_VC_CNT_T6  \\\n",
       "Customer ID                                                               \n",
       "1                         207.0             128.794                  51   \n",
       "2                          65.0              77.824                  23   \n",
       "3                         204.0              49.151                  69   \n",
       "4                           2.0               0.149                  10   \n",
       "5                         791.0              29.699                 132   \n",
       "\n",
       "             U_OB_EVN_VC_CC_CNT_T6  ...  RECH_750_1000_AMT_T6  \\\n",
       "Customer ID                         ...                         \n",
       "1                               31  ...                     0   \n",
       "2                               23  ...                     0   \n",
       "3                               44  ...                     0   \n",
       "4                                6  ...                     0   \n",
       "5                              100  ...                     0   \n",
       "\n",
       "             RECH_750_1000_CNT_T6  RECH_GT_1000_AMT_T6  RECH_GT_1000_CNT_T6  \\\n",
       "Customer ID                                                                   \n",
       "1                               0                    0                    0   \n",
       "2                               0                    0                    0   \n",
       "3                               0                    0                    0   \n",
       "4                               0                    0                    0   \n",
       "5                               0                    0                    0   \n",
       "\n",
       "             RECEIVE_AMT_T6  RECEIVE_CNT_T6  SHARE_AMT_T6  SHARE_CNT_T6  \\\n",
       "Customer ID                                                               \n",
       "1                         0               0             0             0   \n",
       "2                    25.523               1             0             0   \n",
       "3                         0               0             0             0   \n",
       "4                         0               0             0             0   \n",
       "5                         0               0             0             0   \n",
       "\n",
       "             LOAN_AMT_T6  LOAN_CNT_T6  \n",
       "Customer ID                            \n",
       "1                     45            3  \n",
       "2                     60            4  \n",
       "3                      0            0  \n",
       "4                      0            0  \n",
       "5                     15            1  \n",
       "\n",
       "[5 rows x 473 columns]"
      ]
     },
     "execution_count": 7,
     "metadata": {},
     "output_type": "execute_result"
    }
   ],
   "source": [
    "df.head()"
   ]
  },
  {
   "cell_type": "code",
   "execution_count": 8,
   "metadata": {},
   "outputs": [
    {
     "data": {
      "text/plain": [
       "U_OB_VC_CNT_T6                 int64\n",
       "U_OB_VC_CC_CNT_T6              int64\n",
       "U_OB_VC_DUR_T6               float64\n",
       "U_OB_VC_REV_T6               float64\n",
       "U_OB_DAY_VC_CNT_T6             int64\n",
       "U_OB_DAY_VC_CC_CNT_T6          int64\n",
       "U_OB_DAY_VC_DUR_T6           float64\n",
       "U_OB_DAY_VC_REV_T6           float64\n",
       "U_OB_EVN_VC_CNT_T6             int64\n",
       "U_OB_EVN_VC_CC_CNT_T6          int64\n",
       "U_OB_EVN_VC_DUR_T6           float64\n",
       "U_OB_EVN_VC_REV_T6           float64\n",
       "U_OB_NGT_VC_CNT_T6             int64\n",
       "U_OB_NGT_VC_CC_CNT_T6          int64\n",
       "U_OB_NGT_VC_DUR_T6           float64\n",
       "U_OB_NGT_VC_REV_T6           float64\n",
       "U_OB_PEAK_VC_CNT_T6            int64\n",
       "U_OB_PEAK_VC_CC_CNT_T6         int64\n",
       "U_OB_PEAK_VC_DUR_T6          float64\n",
       "U_OB_PEAK_VC_REV_T6          float64\n",
       "U_OB_OFFPEAK_VC_CNT_T6         int64\n",
       "U_OB_OFFPEAK_VC_CC_CNT_T6      int64\n",
       "U_OB_OFFPEAK_VC_DUR_T6       float64\n",
       "U_OB_OFFPEAK_VC_REV_T6       float64\n",
       "U_OB_H_VC_CNT_T6               int64\n",
       "U_OB_H_VC_CC_CNT_T6            int64\n",
       "U_OB_H_VC_DUR_T6             float64\n",
       "U_OB_H_VC_REV_T6             float64\n",
       "U_OB_W_VC_CNT_T6               int64\n",
       "U_OB_W_VC_CC_CNT_T6            int64\n",
       "                              ...   \n",
       "RECH_VOUCHER_AMT_T6           object\n",
       "RECH_VOUCHER_CNT_T6           object\n",
       "RECH_OTHER_AMT_T6             object\n",
       "RECH_OTHER_CNT_T6             object\n",
       "RECH_0_50_AMT_T6              object\n",
       "RECH_0_50_CNT_T6              object\n",
       "RECH_50_100_AMT_T6            object\n",
       "RECH_50_100_CNT_T6            object\n",
       "RECH_100_150_AMT_T6           object\n",
       "RECH_100_150_CNT_T6           object\n",
       "RECH_150_200_AMT_T6           object\n",
       "RECH_150_200_CNT_T6           object\n",
       "RECH_200_250_AMT_T6           object\n",
       "RECH_200_250_CNT_T6           object\n",
       "RECH_250_300_AMT_T6           object\n",
       "RECH_250_300_CNT_T6           object\n",
       "RECH_300_500_AMT_T6           object\n",
       "RECH_300_500_CNT_T6           object\n",
       "RECH_500_750_AMT_T6           object\n",
       "RECH_500_750_CNT_T6           object\n",
       "RECH_750_1000_AMT_T6          object\n",
       "RECH_750_1000_CNT_T6          object\n",
       "RECH_GT_1000_AMT_T6           object\n",
       "RECH_GT_1000_CNT_T6           object\n",
       "RECEIVE_AMT_T6                object\n",
       "RECEIVE_CNT_T6                object\n",
       "SHARE_AMT_T6                  object\n",
       "SHARE_CNT_T6                  object\n",
       "LOAN_AMT_T6                   object\n",
       "LOAN_CNT_T6                   object\n",
       "Length: 473, dtype: object"
      ]
     },
     "execution_count": 8,
     "metadata": {},
     "output_type": "execute_result"
    }
   ],
   "source": [
    "df.dtypes"
   ]
  },
  {
   "cell_type": "code",
   "execution_count": 9,
   "metadata": {},
   "outputs": [
    {
     "data": {
      "text/plain": [
       "U_OB_VC_CNT_T6               0\n",
       "U_OB_VC_CC_CNT_T6            0\n",
       "U_OB_VC_DUR_T6               0\n",
       "U_OB_VC_REV_T6               0\n",
       "U_OB_DAY_VC_CNT_T6           0\n",
       "U_OB_DAY_VC_CC_CNT_T6        0\n",
       "U_OB_DAY_VC_DUR_T6           0\n",
       "U_OB_DAY_VC_REV_T6           0\n",
       "U_OB_EVN_VC_CNT_T6           0\n",
       "U_OB_EVN_VC_CC_CNT_T6        0\n",
       "U_OB_EVN_VC_DUR_T6           0\n",
       "U_OB_EVN_VC_REV_T6           0\n",
       "U_OB_NGT_VC_CNT_T6           0\n",
       "U_OB_NGT_VC_CC_CNT_T6        0\n",
       "U_OB_NGT_VC_DUR_T6           0\n",
       "U_OB_NGT_VC_REV_T6           0\n",
       "U_OB_PEAK_VC_CNT_T6          0\n",
       "U_OB_PEAK_VC_CC_CNT_T6       0\n",
       "U_OB_PEAK_VC_DUR_T6          0\n",
       "U_OB_PEAK_VC_REV_T6          0\n",
       "U_OB_OFFPEAK_VC_CNT_T6       0\n",
       "U_OB_OFFPEAK_VC_CC_CNT_T6    0\n",
       "U_OB_OFFPEAK_VC_DUR_T6       0\n",
       "U_OB_OFFPEAK_VC_REV_T6       0\n",
       "U_OB_H_VC_CNT_T6             0\n",
       "U_OB_H_VC_CC_CNT_T6          0\n",
       "U_OB_H_VC_DUR_T6             0\n",
       "U_OB_H_VC_REV_T6             0\n",
       "U_OB_W_VC_CNT_T6             0\n",
       "U_OB_W_VC_CC_CNT_T6          0\n",
       "                            ..\n",
       "RECH_VOUCHER_AMT_T6          0\n",
       "RECH_VOUCHER_CNT_T6          0\n",
       "RECH_OTHER_AMT_T6            0\n",
       "RECH_OTHER_CNT_T6            0\n",
       "RECH_0_50_AMT_T6             0\n",
       "RECH_0_50_CNT_T6             0\n",
       "RECH_50_100_AMT_T6           0\n",
       "RECH_50_100_CNT_T6           0\n",
       "RECH_100_150_AMT_T6          0\n",
       "RECH_100_150_CNT_T6          0\n",
       "RECH_150_200_AMT_T6          0\n",
       "RECH_150_200_CNT_T6          0\n",
       "RECH_200_250_AMT_T6          0\n",
       "RECH_200_250_CNT_T6          0\n",
       "RECH_250_300_AMT_T6          0\n",
       "RECH_250_300_CNT_T6          0\n",
       "RECH_300_500_AMT_T6          0\n",
       "RECH_300_500_CNT_T6          0\n",
       "RECH_500_750_AMT_T6          0\n",
       "RECH_500_750_CNT_T6          0\n",
       "RECH_750_1000_AMT_T6         0\n",
       "RECH_750_1000_CNT_T6         0\n",
       "RECH_GT_1000_AMT_T6          0\n",
       "RECH_GT_1000_CNT_T6          0\n",
       "RECEIVE_AMT_T6               0\n",
       "RECEIVE_CNT_T6               0\n",
       "SHARE_AMT_T6                 0\n",
       "SHARE_CNT_T6                 0\n",
       "LOAN_AMT_T6                  0\n",
       "LOAN_CNT_T6                  0\n",
       "Length: 473, dtype: int64"
      ]
     },
     "execution_count": 9,
     "metadata": {},
     "output_type": "execute_result"
    }
   ],
   "source": [
    "df.isnull().sum()"
   ]
  },
  {
   "cell_type": "code",
   "execution_count": 10,
   "metadata": {},
   "outputs": [],
   "source": [
    "df.replace('?',0,inplace=True)"
   ]
  },
  {
   "cell_type": "code",
   "execution_count": 11,
   "metadata": {},
   "outputs": [
    {
     "data": {
      "text/plain": [
       "U_OB_VC_CNT_T6                 int64\n",
       "U_OB_VC_CC_CNT_T6              int64\n",
       "U_OB_VC_DUR_T6               float64\n",
       "U_OB_VC_REV_T6               float64\n",
       "U_OB_DAY_VC_CNT_T6             int64\n",
       "U_OB_DAY_VC_CC_CNT_T6          int64\n",
       "U_OB_DAY_VC_DUR_T6           float64\n",
       "U_OB_DAY_VC_REV_T6           float64\n",
       "U_OB_EVN_VC_CNT_T6             int64\n",
       "U_OB_EVN_VC_CC_CNT_T6          int64\n",
       "U_OB_EVN_VC_DUR_T6           float64\n",
       "U_OB_EVN_VC_REV_T6           float64\n",
       "U_OB_NGT_VC_CNT_T6             int64\n",
       "U_OB_NGT_VC_CC_CNT_T6          int64\n",
       "U_OB_NGT_VC_DUR_T6           float64\n",
       "U_OB_NGT_VC_REV_T6           float64\n",
       "U_OB_PEAK_VC_CNT_T6            int64\n",
       "U_OB_PEAK_VC_CC_CNT_T6         int64\n",
       "U_OB_PEAK_VC_DUR_T6          float64\n",
       "U_OB_PEAK_VC_REV_T6          float64\n",
       "U_OB_OFFPEAK_VC_CNT_T6         int64\n",
       "U_OB_OFFPEAK_VC_CC_CNT_T6      int64\n",
       "U_OB_OFFPEAK_VC_DUR_T6       float64\n",
       "U_OB_OFFPEAK_VC_REV_T6       float64\n",
       "U_OB_H_VC_CNT_T6               int64\n",
       "U_OB_H_VC_CC_CNT_T6            int64\n",
       "U_OB_H_VC_DUR_T6             float64\n",
       "U_OB_H_VC_REV_T6             float64\n",
       "U_OB_W_VC_CNT_T6               int64\n",
       "U_OB_W_VC_CC_CNT_T6            int64\n",
       "                              ...   \n",
       "RECH_VOUCHER_AMT_T6            int64\n",
       "RECH_VOUCHER_CNT_T6            int64\n",
       "RECH_OTHER_AMT_T6              int64\n",
       "RECH_OTHER_CNT_T6              int64\n",
       "RECH_0_50_AMT_T6               int64\n",
       "RECH_0_50_CNT_T6               int64\n",
       "RECH_50_100_AMT_T6             int64\n",
       "RECH_50_100_CNT_T6             int64\n",
       "RECH_100_150_AMT_T6            int64\n",
       "RECH_100_150_CNT_T6            int64\n",
       "RECH_150_200_AMT_T6            int64\n",
       "RECH_150_200_CNT_T6            int64\n",
       "RECH_200_250_AMT_T6            int64\n",
       "RECH_200_250_CNT_T6            int64\n",
       "RECH_250_300_AMT_T6            int64\n",
       "RECH_250_300_CNT_T6            int64\n",
       "RECH_300_500_AMT_T6            int64\n",
       "RECH_300_500_CNT_T6            int64\n",
       "RECH_500_750_AMT_T6            int64\n",
       "RECH_500_750_CNT_T6            int64\n",
       "RECH_750_1000_AMT_T6           int64\n",
       "RECH_750_1000_CNT_T6           int64\n",
       "RECH_GT_1000_AMT_T6            int64\n",
       "RECH_GT_1000_CNT_T6            int64\n",
       "RECEIVE_AMT_T6               float64\n",
       "RECEIVE_CNT_T6                 int64\n",
       "SHARE_AMT_T6                 float64\n",
       "SHARE_CNT_T6                   int64\n",
       "LOAN_AMT_T6                    int64\n",
       "LOAN_CNT_T6                    int64\n",
       "Length: 473, dtype: object"
      ]
     },
     "execution_count": 11,
     "metadata": {},
     "output_type": "execute_result"
    }
   ],
   "source": [
    "df.dtypes"
   ]
  },
  {
   "cell_type": "code",
   "execution_count": 12,
   "metadata": {},
   "outputs": [],
   "source": [
    "df.fillna(0,inplace = True)"
   ]
  },
  {
   "cell_type": "markdown",
   "metadata": {},
   "source": [
    "### Basic EDA\n",
    "- Task 2 : Perform Exploratory Data Analysis on Voice Calls \n",
    "- Task 3 : Perform Exploratory Data Analysis on SMS \n",
    "- Task 4 : Perform Exploratory Data Analysis on GPRS \n",
    "- Task 5 : Perform Exploratory Data Analysis on Recharge "
   ]
  },
  {
   "cell_type": "markdown",
   "metadata": {},
   "source": [
    "For example look at these\n",
    " - Single Value\n",
    "     - VC Count  (Single Value)\n",
    "     - VC Revenue (Single Value) <br>\n",
    "     \n",
    " - Comparison Graph\n",
    "     - VC Day , VC Evening , VC Night \n",
    "     - VC Peak ,VC Off Peak"
   ]
  },
  {
   "cell_type": "markdown",
   "metadata": {},
   "source": [
    "For example look at these\n",
    " - Single Value\n",
    "     - SMS Count \n",
    "     - SMS Revenue \n",
    " - Comparison Graph\n",
    "     - SMS Day ,SMS Evening ,SMS Night "
   ]
  },
  {
   "cell_type": "code",
   "execution_count": 13,
   "metadata": {},
   "outputs": [
    {
     "data": {
      "text/plain": [
       "20205"
      ]
     },
     "execution_count": 13,
     "metadata": {},
     "output_type": "execute_result"
    }
   ],
   "source": [
    "#Total VC COUNT\n",
    "data['U_OB_VC_CNT_T6'].sum()"
   ]
  },
  {
   "cell_type": "code",
   "execution_count": 14,
   "metadata": {},
   "outputs": [
    {
     "data": {
      "text/plain": [
       "18587"
      ]
     },
     "execution_count": 14,
     "metadata": {},
     "output_type": "execute_result"
    }
   ],
   "source": [
    "#Total SMS COUNT\n",
    "data['U_OB_SMS_CNT_T6'].sum()"
   ]
  },
  {
   "cell_type": "code",
   "execution_count": 15,
   "metadata": {},
   "outputs": [
    {
     "data": {
      "text/plain": [
       "2104"
      ]
     },
     "execution_count": 15,
     "metadata": {},
     "output_type": "execute_result"
    }
   ],
   "source": [
    "#Total GPRS COUNT\n",
    "data['U_GPRS_CNT_T6'].sum()"
   ]
  },
  {
   "cell_type": "code",
   "execution_count": 16,
   "metadata": {},
   "outputs": [
    {
     "data": {
      "text/plain": [
       "554"
      ]
     },
     "execution_count": 16,
     "metadata": {},
     "output_type": "execute_result"
    }
   ],
   "source": [
    "#Total Recharge COUNT\n",
    "df['RECH_CNT_T6'].sum()"
   ]
  },
  {
   "cell_type": "code",
   "execution_count": 17,
   "metadata": {},
   "outputs": [
    {
     "data": {
      "text/plain": [
       "[11162, 7355, 1688]"
      ]
     },
     "execution_count": 17,
     "metadata": {},
     "output_type": "execute_result"
    }
   ],
   "source": [
    "# Call count comparison\n",
    "call_count_comparison = [data['U_OB_DAY_VC_CNT_T6'].sum(),data['U_OB_EVN_VC_CNT_T6'].sum(),data[\"U_OB_NGT_VC_CNT_T6\"].sum()]\n",
    "call_count_comparison"
   ]
  },
  {
   "cell_type": "code",
   "execution_count": 18,
   "metadata": {},
   "outputs": [
    {
     "data": {
      "text/plain": [
       "<matplotlib.axes._subplots.AxesSubplot at 0x2126870c748>"
      ]
     },
     "execution_count": 18,
     "metadata": {},
     "output_type": "execute_result"
    },
    {
     "data": {
      "image/png": "[encoded data removed]",
      "text/plain": [
       "<Figure size 432x288 with 1 Axes>"
      ]
     },
     "metadata": {
      "needs_background": "light"
     },
     "output_type": "display_data"
    }
   ],
   "source": [
    "labels=['DAY','EVN','NGT']\n",
    "sns.barplot(y=call_count_comparison,x=labels ,data=data,hue=labels,color='m',palette=\"Blues_d\")"
   ]
  },
  {
   "cell_type": "code",
   "execution_count": 19,
   "metadata": {},
   "outputs": [
    {
     "data": {
      "text/plain": [
       "[14011.762000000002, 459.02700000000004, 166.23]"
      ]
     },
     "execution_count": 19,
     "metadata": {},
     "output_type": "execute_result"
    }
   ],
   "source": [
    "#Revenue Comparison\n",
    "revenue = [data['U_OB_VC_REV_T6'].sum(),data['U_OB_SMS_REV_T6'].sum(),data['U_GPRS_REV_T6'].sum()]\n",
    "revenue"
   ]
  },
  {
   "cell_type": "code",
   "execution_count": 22,
   "metadata": {},
   "outputs": [
    {
     "data": {
      "text/plain": [
       "<matplotlib.axes._subplots.AxesSubplot at 0x2126a968d30>"
      ]
     },
     "execution_count": 22,
     "metadata": {},
     "output_type": "execute_result"
    },
    {
     "data": {
      "image/png": "[encoded data removed]",
      "text/plain": [
       "<Figure size 432x288 with 1 Axes>"
      ]
     },
     "metadata": {
      "needs_background": "light"
     },
     "output_type": "display_data"
    }
   ],
   "source": [
    "labels=['CALL','SMS','GPRS']\n",
    "sns.barplot(y=revenue,x=labels ,data=data,hue=labels,color='m',palette=\"Blues_d\")"
   ]
  },
  {
   "cell_type": "code",
   "execution_count": 23,
   "metadata": {},
   "outputs": [
    {
     "data": {
      "text/plain": [
       "[9337777, 4475266, 3536520]"
      ]
     },
     "execution_count": 23,
     "metadata": {},
     "output_type": "execute_result"
    }
   ],
   "source": [
    "gprs_comparison = [data['U_GPRS_DAY_VOL_T6'].sum(),data['U_GPRS_EVN_VOL_T6'].sum(),data['U_GPRS_NGT_VOL_T6'].sum()]\n",
    "gprs_comparison"
   ]
  },
  {
   "cell_type": "code",
   "execution_count": 24,
   "metadata": {},
   "outputs": [
    {
     "data": {
      "text/plain": [
       "<matplotlib.axes._subplots.AxesSubplot at 0x2126aaa7588>"
      ]
     },
     "execution_count": 24,
     "metadata": {},
     "output_type": "execute_result"
    },
    {
     "data": {
      "image/png": "[encoded data removed]",
      "text/plain": [
       "<Figure size 432x288 with 1 Axes>"
      ]
     },
     "metadata": {
      "needs_background": "light"
     },
     "output_type": "display_data"
    }
   ],
   "source": [
    "sns.barplot(y=gprs_comparison,x=labels ,data=data,hue=labels,color='m',palette=\"Blues_d\")"
   ]
  },
  {
   "cell_type": "markdown",
   "metadata": {},
   "source": [
    "<h4 style=\"color:red;\">Task 6 : Removed variables with constant values (0) </h4>   "
   ]
  },
  {
   "cell_type": "code",
   "execution_count": 25,
   "metadata": {},
   "outputs": [],
   "source": [
    "df = df.loc[:, (df != 0).any(axis=0)]"
   ]
  },
  {
   "cell_type": "code",
   "execution_count": 26,
   "metadata": {},
   "outputs": [
    {
     "data": {
      "text/plain": [
       "Index(['U_OB_VC_CNT_T6', 'U_OB_VC_CC_CNT_T6', 'U_OB_VC_DUR_T6',\n",
       "       'U_OB_VC_REV_T6', 'U_OB_DAY_VC_CNT_T6', 'U_OB_DAY_VC_CC_CNT_T6',\n",
       "       'U_OB_DAY_VC_DUR_T6', 'U_OB_DAY_VC_REV_T6', 'U_OB_EVN_VC_CNT_T6',\n",
       "       'U_OB_EVN_VC_CC_CNT_T6',\n",
       "       ...\n",
       "       'RECH_500_750_AMT_T6', 'RECH_500_750_CNT_T6', 'RECH_GT_1000_AMT_T6',\n",
       "       'RECH_GT_1000_CNT_T6', 'RECEIVE_AMT_T6', 'RECEIVE_CNT_T6',\n",
       "       'SHARE_AMT_T6', 'SHARE_CNT_T6', 'LOAN_AMT_T6', 'LOAN_CNT_T6'],\n",
       "      dtype='object', length=381)"
      ]
     },
     "execution_count": 26,
     "metadata": {},
     "output_type": "execute_result"
    }
   ],
   "source": [
    "df.columns"
   ]
  },
  {
   "cell_type": "markdown",
   "metadata": {},
   "source": [
    "<h4 style=\"color:red;\">Task 7 : Generate Correlation Matrix and Removed collinearity at a cutoff value of 0.9  </h4>"
   ]
  },
  {
   "cell_type": "markdown",
   "metadata": {},
   "source": [
    "# Feature Selector Library \n",
    "\n",
    "- Install Library by following these steps\n",
    "    - Download library as zip from here: https://github.com/WillKoehrsen/feature-selector\n",
    "    - Open anaconda prompt\n",
    "    - The default path will be given in prompt, open window explorer and navigate to that path\n",
    "    - Copy zip file on that default path\n",
    "    - pip install feature-selector-master.zip\n",
    "        - If admin rights error occured try using --user with it\n",
    "        - If not solved, show error in the course group\n",
    "\n",
    "\n",
    "- **For help and usage https://github.com/WillKoehrsen/feature-selector/blob/master/Feature%20Selector%20Usage.ipynb**"
   ]
  },
  {
   "cell_type": "code",
   "execution_count": 27,
   "metadata": {},
   "outputs": [],
   "source": [
    "from feature_selector import FeatureSelector"
   ]
  },
  {
   "cell_type": "code",
   "execution_count": 28,
   "metadata": {},
   "outputs": [],
   "source": [
    "fs = FeatureSelector(data = df, labels = df.columns)"
   ]
  },
  {
   "cell_type": "code",
   "execution_count": 29,
   "metadata": {},
   "outputs": [
    {
     "name": "stdout",
     "output_type": "stream",
     "text": [
      "240 features with a correlation magnitude greater than 0.95.\n",
      "\n"
     ]
    }
   ],
   "source": [
    "fs.identify_collinear(correlation_threshold=0.95)"
   ]
  },
  {
   "cell_type": "code",
   "execution_count": 30,
   "metadata": {},
   "outputs": [
    {
     "data": {
      "text/plain": [
       "['U_OB_DAY_VC_CNT_T6',\n",
       " 'U_OB_DAY_VC_CC_CNT_T6',\n",
       " 'U_OB_DAY_VC_REV_T6',\n",
       " 'U_OB_EVN_VC_REV_T6',\n",
       " 'U_OB_NGT_VC_CC_CNT_T6']"
      ]
     },
     "execution_count": 30,
     "metadata": {},
     "output_type": "execute_result"
    }
   ],
   "source": [
    "correlated_features = fs.ops['collinear']\n",
    "correlated_features[:5]"
   ]
  },
  {
   "cell_type": "code",
   "execution_count": 31,
   "metadata": {
    "scrolled": true
   },
   "outputs": [
    {
     "data": {
      "image/png": "[encoded data removed]",
      "text/plain": [
       "<Figure size 720x576 with 2 Axes>"
      ]
     },
     "metadata": {
      "needs_background": "light"
     },
     "output_type": "display_data"
    }
   ],
   "source": [
    "fs.plot_collinear()"
   ]
  },
  {
   "cell_type": "code",
   "execution_count": 32,
   "metadata": {
    "scrolled": true
   },
   "outputs": [
    {
     "data": {
      "text/html": [
       "<div>\n",
       "<style scoped>\n",
       "    .dataframe tbody tr th:only-of-type {\n",
       "        vertical-align: middle;\n",
       "    }\n",
       "\n",
       "    .dataframe tbody tr th {\n",
       "        vertical-align: top;\n",
       "    }\n",
       "\n",
       "    .dataframe thead th {\n",
       "        text-align: right;\n",
       "    }\n",
       "</style>\n",
       "<table border=\"1\" class=\"dataframe\">\n",
       "  <thead>\n",
       "    <tr style=\"text-align: right;\">\n",
       "      <th></th>\n",
       "      <th>drop_feature</th>\n",
       "      <th>corr_feature</th>\n",
       "      <th>corr_value</th>\n",
       "    </tr>\n",
       "  </thead>\n",
       "  <tbody>\n",
       "    <tr>\n",
       "      <th>0</th>\n",
       "      <td>U_OB_DAY_VC_CNT_T6</td>\n",
       "      <td>U_OB_VC_CNT_T6</td>\n",
       "      <td>0.967055</td>\n",
       "    </tr>\n",
       "    <tr>\n",
       "      <th>1</th>\n",
       "      <td>U_OB_DAY_VC_CC_CNT_T6</td>\n",
       "      <td>U_OB_VC_CC_CNT_T6</td>\n",
       "      <td>0.974826</td>\n",
       "    </tr>\n",
       "    <tr>\n",
       "      <th>2</th>\n",
       "      <td>U_OB_DAY_VC_CC_CNT_T6</td>\n",
       "      <td>U_OB_DAY_VC_CNT_T6</td>\n",
       "      <td>0.975082</td>\n",
       "    </tr>\n",
       "    <tr>\n",
       "      <th>3</th>\n",
       "      <td>U_OB_DAY_VC_REV_T6</td>\n",
       "      <td>U_OB_VC_REV_T6</td>\n",
       "      <td>0.984702</td>\n",
       "    </tr>\n",
       "    <tr>\n",
       "      <th>4</th>\n",
       "      <td>U_OB_EVN_VC_REV_T6</td>\n",
       "      <td>U_OB_VC_REV_T6</td>\n",
       "      <td>0.973666</td>\n",
       "    </tr>\n",
       "  </tbody>\n",
       "</table>\n",
       "</div>"
      ],
      "text/plain": [
       "            drop_feature        corr_feature  corr_value\n",
       "0     U_OB_DAY_VC_CNT_T6      U_OB_VC_CNT_T6    0.967055\n",
       "1  U_OB_DAY_VC_CC_CNT_T6   U_OB_VC_CC_CNT_T6    0.974826\n",
       "2  U_OB_DAY_VC_CC_CNT_T6  U_OB_DAY_VC_CNT_T6    0.975082\n",
       "3     U_OB_DAY_VC_REV_T6      U_OB_VC_REV_T6    0.984702\n",
       "4     U_OB_EVN_VC_REV_T6      U_OB_VC_REV_T6    0.973666"
      ]
     },
     "execution_count": 32,
     "metadata": {},
     "output_type": "execute_result"
    }
   ],
   "source": [
    "fs.record_collinear.head()"
   ]
  },
  {
   "cell_type": "code",
   "execution_count": 33,
   "metadata": {},
   "outputs": [
    {
     "name": "stdout",
     "output_type": "stream",
     "text": [
      "Removed 240 features.\n"
     ]
    }
   ],
   "source": [
    "df = fs.remove(methods = ['collinear'])"
   ]
  },
  {
   "cell_type": "code",
   "execution_count": 34,
   "metadata": {},
   "outputs": [
    {
     "data": {
      "text/html": [
       "<div>\n",
       "<style scoped>\n",
       "    .dataframe tbody tr th:only-of-type {\n",
       "        vertical-align: middle;\n",
       "    }\n",
       "\n",
       "    .dataframe tbody tr th {\n",
       "        vertical-align: top;\n",
       "    }\n",
       "\n",
       "    .dataframe thead th {\n",
       "        text-align: right;\n",
       "    }\n",
       "</style>\n",
       "<table border=\"1\" class=\"dataframe\">\n",
       "  <thead>\n",
       "    <tr style=\"text-align: right;\">\n",
       "      <th></th>\n",
       "      <th>U_OB_VC_CNT_T6</th>\n",
       "      <th>U_OB_VC_CC_CNT_T6</th>\n",
       "      <th>U_OB_VC_DUR_T6</th>\n",
       "      <th>U_OB_VC_REV_T6</th>\n",
       "      <th>U_OB_DAY_VC_DUR_T6</th>\n",
       "      <th>U_OB_EVN_VC_CNT_T6</th>\n",
       "      <th>U_OB_EVN_VC_CC_CNT_T6</th>\n",
       "      <th>U_OB_EVN_VC_DUR_T6</th>\n",
       "      <th>U_OB_NGT_VC_CNT_T6</th>\n",
       "      <th>U_OB_NGT_VC_DUR_T6</th>\n",
       "      <th>...</th>\n",
       "      <th>RECH_50_100_AMT_T6</th>\n",
       "      <th>RECH_100_150_AMT_T6</th>\n",
       "      <th>RECH_150_200_AMT_T6</th>\n",
       "      <th>RECH_200_250_AMT_T6</th>\n",
       "      <th>RECH_250_300_AMT_T6</th>\n",
       "      <th>RECH_300_500_AMT_T6</th>\n",
       "      <th>RECH_GT_1000_AMT_T6</th>\n",
       "      <th>RECEIVE_AMT_T6</th>\n",
       "      <th>SHARE_AMT_T6</th>\n",
       "      <th>LOAN_AMT_T6</th>\n",
       "    </tr>\n",
       "    <tr>\n",
       "      <th>Customer ID</th>\n",
       "      <th></th>\n",
       "      <th></th>\n",
       "      <th></th>\n",
       "      <th></th>\n",
       "      <th></th>\n",
       "      <th></th>\n",
       "      <th></th>\n",
       "      <th></th>\n",
       "      <th></th>\n",
       "      <th></th>\n",
       "      <th></th>\n",
       "      <th></th>\n",
       "      <th></th>\n",
       "      <th></th>\n",
       "      <th></th>\n",
       "      <th></th>\n",
       "      <th></th>\n",
       "      <th></th>\n",
       "      <th></th>\n",
       "      <th></th>\n",
       "      <th></th>\n",
       "    </tr>\n",
       "  </thead>\n",
       "  <tbody>\n",
       "    <tr>\n",
       "      <th>1</th>\n",
       "      <td>157</td>\n",
       "      <td>88</td>\n",
       "      <td>379.0</td>\n",
       "      <td>230.070</td>\n",
       "      <td>207.0</td>\n",
       "      <td>51</td>\n",
       "      <td>31</td>\n",
       "      <td>169.0</td>\n",
       "      <td>3</td>\n",
       "      <td>3.0</td>\n",
       "      <td>...</td>\n",
       "      <td>0</td>\n",
       "      <td>600</td>\n",
       "      <td>0</td>\n",
       "      <td>0</td>\n",
       "      <td>0</td>\n",
       "      <td>0</td>\n",
       "      <td>0</td>\n",
       "      <td>0.000</td>\n",
       "      <td>0.0</td>\n",
       "      <td>45</td>\n",
       "    </tr>\n",
       "    <tr>\n",
       "      <th>2</th>\n",
       "      <td>41</td>\n",
       "      <td>38</td>\n",
       "      <td>132.5</td>\n",
       "      <td>137.276</td>\n",
       "      <td>65.0</td>\n",
       "      <td>23</td>\n",
       "      <td>23</td>\n",
       "      <td>66.5</td>\n",
       "      <td>1</td>\n",
       "      <td>1.0</td>\n",
       "      <td>...</td>\n",
       "      <td>0</td>\n",
       "      <td>400</td>\n",
       "      <td>0</td>\n",
       "      <td>0</td>\n",
       "      <td>0</td>\n",
       "      <td>0</td>\n",
       "      <td>0</td>\n",
       "      <td>25.523</td>\n",
       "      <td>0.0</td>\n",
       "      <td>60</td>\n",
       "    </tr>\n",
       "    <tr>\n",
       "      <th>3</th>\n",
       "      <td>321</td>\n",
       "      <td>185</td>\n",
       "      <td>274.5</td>\n",
       "      <td>98.422</td>\n",
       "      <td>204.0</td>\n",
       "      <td>69</td>\n",
       "      <td>44</td>\n",
       "      <td>69.0</td>\n",
       "      <td>3</td>\n",
       "      <td>1.5</td>\n",
       "      <td>...</td>\n",
       "      <td>0</td>\n",
       "      <td>800</td>\n",
       "      <td>0</td>\n",
       "      <td>0</td>\n",
       "      <td>0</td>\n",
       "      <td>0</td>\n",
       "      <td>0</td>\n",
       "      <td>0.000</td>\n",
       "      <td>0.0</td>\n",
       "      <td>0</td>\n",
       "    </tr>\n",
       "    <tr>\n",
       "      <th>4</th>\n",
       "      <td>11</td>\n",
       "      <td>6</td>\n",
       "      <td>172.5</td>\n",
       "      <td>7.587</td>\n",
       "      <td>2.0</td>\n",
       "      <td>10</td>\n",
       "      <td>6</td>\n",
       "      <td>170.5</td>\n",
       "      <td>0</td>\n",
       "      <td>0.0</td>\n",
       "      <td>...</td>\n",
       "      <td>0</td>\n",
       "      <td>0</td>\n",
       "      <td>0</td>\n",
       "      <td>0</td>\n",
       "      <td>0</td>\n",
       "      <td>0</td>\n",
       "      <td>0</td>\n",
       "      <td>0.000</td>\n",
       "      <td>0.0</td>\n",
       "      <td>0</td>\n",
       "    </tr>\n",
       "    <tr>\n",
       "      <th>5</th>\n",
       "      <td>313</td>\n",
       "      <td>220</td>\n",
       "      <td>2888.0</td>\n",
       "      <td>52.915</td>\n",
       "      <td>791.0</td>\n",
       "      <td>132</td>\n",
       "      <td>100</td>\n",
       "      <td>2002.0</td>\n",
       "      <td>11</td>\n",
       "      <td>95.0</td>\n",
       "      <td>...</td>\n",
       "      <td>0</td>\n",
       "      <td>600</td>\n",
       "      <td>0</td>\n",
       "      <td>0</td>\n",
       "      <td>0</td>\n",
       "      <td>0</td>\n",
       "      <td>0</td>\n",
       "      <td>0.000</td>\n",
       "      <td>0.0</td>\n",
       "      <td>15</td>\n",
       "    </tr>\n",
       "  </tbody>\n",
       "</table>\n",
       "<p>5 rows × 141 columns</p>\n",
       "</div>"
      ],
      "text/plain": [
       "             U_OB_VC_CNT_T6  U_OB_VC_CC_CNT_T6  U_OB_VC_DUR_T6  \\\n",
       "Customer ID                                                      \n",
       "1                       157                 88           379.0   \n",
       "2                        41                 38           132.5   \n",
       "3                       321                185           274.5   \n",
       "4                        11                  6           172.5   \n",
       "5                       313                220          2888.0   \n",
       "\n",
       "             U_OB_VC_REV_T6  U_OB_DAY_VC_DUR_T6  U_OB_EVN_VC_CNT_T6  \\\n",
       "Customer ID                                                           \n",
       "1                   230.070               207.0                  51   \n",
       "2                   137.276                65.0                  23   \n",
       "3                    98.422               204.0                  69   \n",
       "4                     7.587                 2.0                  10   \n",
       "5                    52.915               791.0                 132   \n",
       "\n",
       "             U_OB_EVN_VC_CC_CNT_T6  U_OB_EVN_VC_DUR_T6  U_OB_NGT_VC_CNT_T6  \\\n",
       "Customer ID                                                                  \n",
       "1                               31               169.0                   3   \n",
       "2                               23                66.5                   1   \n",
       "3                               44                69.0                   3   \n",
       "4                                6               170.5                   0   \n",
       "5                              100              2002.0                  11   \n",
       "\n",
       "             U_OB_NGT_VC_DUR_T6  ...  RECH_50_100_AMT_T6  RECH_100_150_AMT_T6  \\\n",
       "Customer ID                      ...                                            \n",
       "1                           3.0  ...                   0                  600   \n",
       "2                           1.0  ...                   0                  400   \n",
       "3                           1.5  ...                   0                  800   \n",
       "4                           0.0  ...                   0                    0   \n",
       "5                          95.0  ...                   0                  600   \n",
       "\n",
       "             RECH_150_200_AMT_T6  RECH_200_250_AMT_T6  RECH_250_300_AMT_T6  \\\n",
       "Customer ID                                                                  \n",
       "1                              0                    0                    0   \n",
       "2                              0                    0                    0   \n",
       "3                              0                    0                    0   \n",
       "4                              0                    0                    0   \n",
       "5                              0                    0                    0   \n",
       "\n",
       "             RECH_300_500_AMT_T6  RECH_GT_1000_AMT_T6  RECEIVE_AMT_T6  \\\n",
       "Customer ID                                                             \n",
       "1                              0                    0           0.000   \n",
       "2                              0                    0          25.523   \n",
       "3                              0                    0           0.000   \n",
       "4                              0                    0           0.000   \n",
       "5                              0                    0           0.000   \n",
       "\n",
       "             SHARE_AMT_T6  LOAN_AMT_T6  \n",
       "Customer ID                             \n",
       "1                     0.0           45  \n",
       "2                     0.0           60  \n",
       "3                     0.0            0  \n",
       "4                     0.0            0  \n",
       "5                     0.0           15  \n",
       "\n",
       "[5 rows x 141 columns]"
      ]
     },
     "execution_count": 34,
     "metadata": {},
     "output_type": "execute_result"
    }
   ],
   "source": [
    "df.head()"
   ]
  },
  {
   "cell_type": "code",
   "execution_count": 35,
   "metadata": {},
   "outputs": [
    {
     "data": {
      "text/plain": [
       "(100, 141)"
      ]
     },
     "execution_count": 35,
     "metadata": {},
     "output_type": "execute_result"
    }
   ],
   "source": [
    "df.shape"
   ]
  },
  {
   "cell_type": "code",
   "execution_count": 36,
   "metadata": {},
   "outputs": [
    {
     "data": {
      "text/plain": [
       "141"
      ]
     },
     "execution_count": 36,
     "metadata": {},
     "output_type": "execute_result"
    }
   ],
   "source": [
    "len(df.columns)"
   ]
  },
  {
   "cell_type": "code",
   "execution_count": 37,
   "metadata": {},
   "outputs": [
    {
     "data": {
      "text/plain": [
       "141"
      ]
     },
     "execution_count": 37,
     "metadata": {},
     "output_type": "execute_result"
    }
   ],
   "source": [
    "len([col for col in df.columns if not df[col].is_unique])"
   ]
  },
  {
   "cell_type": "code",
   "execution_count": 38,
   "metadata": {},
   "outputs": [],
   "source": [
    "df_preprocessed  = df.copy()"
   ]
  },
  {
   "cell_type": "markdown",
   "metadata": {},
   "source": [
    "<h4 style=\"color:red;\">Task 8 : Standardized Min Max Normalization (0-1)  </h4> "
   ]
  },
  {
   "cell_type": "code",
   "execution_count": 39,
   "metadata": {},
   "outputs": [],
   "source": [
    "from sklearn import preprocessing\n",
    "from sklearn.preprocessing import StandardScaler\n",
    "from sklearn.preprocessing import MinMaxScaler"
   ]
  },
  {
   "cell_type": "code",
   "execution_count": 40,
   "metadata": {},
   "outputs": [],
   "source": [
    "scaler = MinMaxScaler()"
   ]
  },
  {
   "cell_type": "code",
   "execution_count": 41,
   "metadata": {},
   "outputs": [
    {
     "name": "stderr",
     "output_type": "stream",
     "text": [
      "C:\\ProgramData\\Anaconda3\\lib\\site-packages\\sklearn\\preprocessing\\data.py:323: DataConversionWarning: Data with input dtype int64, float64 were all converted to float64 by MinMaxScaler.\n",
      "  return self.partial_fit(X, y)\n"
     ]
    }
   ],
   "source": [
    "new=scaler.fit_transform(df_preprocessed) "
   ]
  },
  {
   "cell_type": "code",
   "execution_count": 42,
   "metadata": {},
   "outputs": [],
   "source": [
    "scaled=pd.DataFrame(columns=df_preprocessed.columns,data=new) #convert the scaled values into the dataframe"
   ]
  },
  {
   "cell_type": "code",
   "execution_count": 43,
   "metadata": {},
   "outputs": [
    {
     "data": {
      "text/html": [
       "<div>\n",
       "<style scoped>\n",
       "    .dataframe tbody tr th:only-of-type {\n",
       "        vertical-align: middle;\n",
       "    }\n",
       "\n",
       "    .dataframe tbody tr th {\n",
       "        vertical-align: top;\n",
       "    }\n",
       "\n",
       "    .dataframe thead th {\n",
       "        text-align: right;\n",
       "    }\n",
       "</style>\n",
       "<table border=\"1\" class=\"dataframe\">\n",
       "  <thead>\n",
       "    <tr style=\"text-align: right;\">\n",
       "      <th></th>\n",
       "      <th>U_OB_VC_CNT_T6</th>\n",
       "      <th>U_OB_VC_CC_CNT_T6</th>\n",
       "      <th>U_OB_VC_DUR_T6</th>\n",
       "      <th>U_OB_VC_REV_T6</th>\n",
       "      <th>U_OB_DAY_VC_DUR_T6</th>\n",
       "      <th>U_OB_EVN_VC_CNT_T6</th>\n",
       "      <th>U_OB_EVN_VC_CC_CNT_T6</th>\n",
       "      <th>U_OB_EVN_VC_DUR_T6</th>\n",
       "      <th>U_OB_NGT_VC_CNT_T6</th>\n",
       "      <th>U_OB_NGT_VC_DUR_T6</th>\n",
       "      <th>...</th>\n",
       "      <th>RECH_50_100_AMT_T6</th>\n",
       "      <th>RECH_100_150_AMT_T6</th>\n",
       "      <th>RECH_150_200_AMT_T6</th>\n",
       "      <th>RECH_200_250_AMT_T6</th>\n",
       "      <th>RECH_250_300_AMT_T6</th>\n",
       "      <th>RECH_300_500_AMT_T6</th>\n",
       "      <th>RECH_GT_1000_AMT_T6</th>\n",
       "      <th>RECEIVE_AMT_T6</th>\n",
       "      <th>SHARE_AMT_T6</th>\n",
       "      <th>LOAN_AMT_T6</th>\n",
       "    </tr>\n",
       "  </thead>\n",
       "  <tbody>\n",
       "    <tr>\n",
       "      <th>0</th>\n",
       "      <td>0.164369</td>\n",
       "      <td>0.218045</td>\n",
       "      <td>0.069944</td>\n",
       "      <td>0.089500</td>\n",
       "      <td>0.093907</td>\n",
       "      <td>0.163987</td>\n",
       "      <td>0.179191</td>\n",
       "      <td>0.084416</td>\n",
       "      <td>0.022727</td>\n",
       "      <td>0.004093</td>\n",
       "      <td>...</td>\n",
       "      <td>0.0</td>\n",
       "      <td>0.500000</td>\n",
       "      <td>0.0</td>\n",
       "      <td>0.0</td>\n",
       "      <td>0.0</td>\n",
       "      <td>0.0</td>\n",
       "      <td>0.0</td>\n",
       "      <td>0.000000</td>\n",
       "      <td>0.0</td>\n",
       "      <td>0.200000</td>\n",
       "    </tr>\n",
       "    <tr>\n",
       "      <th>1</th>\n",
       "      <td>0.041357</td>\n",
       "      <td>0.092732</td>\n",
       "      <td>0.007476</td>\n",
       "      <td>0.053402</td>\n",
       "      <td>0.028859</td>\n",
       "      <td>0.073955</td>\n",
       "      <td>0.132948</td>\n",
       "      <td>0.033217</td>\n",
       "      <td>0.007576</td>\n",
       "      <td>0.001364</td>\n",
       "      <td>...</td>\n",
       "      <td>0.0</td>\n",
       "      <td>0.333333</td>\n",
       "      <td>0.0</td>\n",
       "      <td>0.0</td>\n",
       "      <td>0.0</td>\n",
       "      <td>0.0</td>\n",
       "      <td>0.0</td>\n",
       "      <td>0.437138</td>\n",
       "      <td>0.0</td>\n",
       "      <td>0.266667</td>\n",
       "    </tr>\n",
       "    <tr>\n",
       "      <th>2</th>\n",
       "      <td>0.338282</td>\n",
       "      <td>0.461153</td>\n",
       "      <td>0.043462</td>\n",
       "      <td>0.038287</td>\n",
       "      <td>0.092533</td>\n",
       "      <td>0.221865</td>\n",
       "      <td>0.254335</td>\n",
       "      <td>0.034466</td>\n",
       "      <td>0.022727</td>\n",
       "      <td>0.002046</td>\n",
       "      <td>...</td>\n",
       "      <td>0.0</td>\n",
       "      <td>0.666667</td>\n",
       "      <td>0.0</td>\n",
       "      <td>0.0</td>\n",
       "      <td>0.0</td>\n",
       "      <td>0.0</td>\n",
       "      <td>0.0</td>\n",
       "      <td>0.000000</td>\n",
       "      <td>0.0</td>\n",
       "      <td>0.000000</td>\n",
       "    </tr>\n",
       "    <tr>\n",
       "      <th>3</th>\n",
       "      <td>0.009544</td>\n",
       "      <td>0.012531</td>\n",
       "      <td>0.017613</td>\n",
       "      <td>0.002951</td>\n",
       "      <td>0.000000</td>\n",
       "      <td>0.032154</td>\n",
       "      <td>0.034682</td>\n",
       "      <td>0.085165</td>\n",
       "      <td>0.000000</td>\n",
       "      <td>0.000000</td>\n",
       "      <td>...</td>\n",
       "      <td>0.0</td>\n",
       "      <td>0.000000</td>\n",
       "      <td>0.0</td>\n",
       "      <td>0.0</td>\n",
       "      <td>0.0</td>\n",
       "      <td>0.0</td>\n",
       "      <td>0.0</td>\n",
       "      <td>0.000000</td>\n",
       "      <td>0.0</td>\n",
       "      <td>0.000000</td>\n",
       "    </tr>\n",
       "    <tr>\n",
       "      <th>4</th>\n",
       "      <td>0.329799</td>\n",
       "      <td>0.548872</td>\n",
       "      <td>0.705778</td>\n",
       "      <td>0.020585</td>\n",
       "      <td>0.361429</td>\n",
       "      <td>0.424437</td>\n",
       "      <td>0.578035</td>\n",
       "      <td>1.000000</td>\n",
       "      <td>0.083333</td>\n",
       "      <td>0.129604</td>\n",
       "      <td>...</td>\n",
       "      <td>0.0</td>\n",
       "      <td>0.500000</td>\n",
       "      <td>0.0</td>\n",
       "      <td>0.0</td>\n",
       "      <td>0.0</td>\n",
       "      <td>0.0</td>\n",
       "      <td>0.0</td>\n",
       "      <td>0.000000</td>\n",
       "      <td>0.0</td>\n",
       "      <td>0.066667</td>\n",
       "    </tr>\n",
       "  </tbody>\n",
       "</table>\n",
       "<p>5 rows × 141 columns</p>\n",
       "</div>"
      ],
      "text/plain": [
       "   U_OB_VC_CNT_T6  U_OB_VC_CC_CNT_T6  U_OB_VC_DUR_T6  U_OB_VC_REV_T6  \\\n",
       "0        0.164369           0.218045        0.069944        0.089500   \n",
       "1        0.041357           0.092732        0.007476        0.053402   \n",
       "2        0.338282           0.461153        0.043462        0.038287   \n",
       "3        0.009544           0.012531        0.017613        0.002951   \n",
       "4        0.329799           0.548872        0.705778        0.020585   \n",
       "\n",
       "   U_OB_DAY_VC_DUR_T6  U_OB_EVN_VC_CNT_T6  U_OB_EVN_VC_CC_CNT_T6  \\\n",
       "0            0.093907            0.163987               0.179191   \n",
       "1            0.028859            0.073955               0.132948   \n",
       "2            0.092533            0.221865               0.254335   \n",
       "3            0.000000            0.032154               0.034682   \n",
       "4            0.361429            0.424437               0.578035   \n",
       "\n",
       "   U_OB_EVN_VC_DUR_T6  U_OB_NGT_VC_CNT_T6  U_OB_NGT_VC_DUR_T6  ...  \\\n",
       "0            0.084416            0.022727            0.004093  ...   \n",
       "1            0.033217            0.007576            0.001364  ...   \n",
       "2            0.034466            0.022727            0.002046  ...   \n",
       "3            0.085165            0.000000            0.000000  ...   \n",
       "4            1.000000            0.083333            0.129604  ...   \n",
       "\n",
       "   RECH_50_100_AMT_T6  RECH_100_150_AMT_T6  RECH_150_200_AMT_T6  \\\n",
       "0                 0.0             0.500000                  0.0   \n",
       "1                 0.0             0.333333                  0.0   \n",
       "2                 0.0             0.666667                  0.0   \n",
       "3                 0.0             0.000000                  0.0   \n",
       "4                 0.0             0.500000                  0.0   \n",
       "\n",
       "   RECH_200_250_AMT_T6  RECH_250_300_AMT_T6  RECH_300_500_AMT_T6  \\\n",
       "0                  0.0                  0.0                  0.0   \n",
       "1                  0.0                  0.0                  0.0   \n",
       "2                  0.0                  0.0                  0.0   \n",
       "3                  0.0                  0.0                  0.0   \n",
       "4                  0.0                  0.0                  0.0   \n",
       "\n",
       "   RECH_GT_1000_AMT_T6  RECEIVE_AMT_T6  SHARE_AMT_T6  LOAN_AMT_T6  \n",
       "0                  0.0        0.000000           0.0     0.200000  \n",
       "1                  0.0        0.437138           0.0     0.266667  \n",
       "2                  0.0        0.000000           0.0     0.000000  \n",
       "3                  0.0        0.000000           0.0     0.000000  \n",
       "4                  0.0        0.000000           0.0     0.066667  \n",
       "\n",
       "[5 rows x 141 columns]"
      ]
     },
     "execution_count": 43,
     "metadata": {},
     "output_type": "execute_result"
    }
   ],
   "source": [
    "scaled.head()"
   ]
  },
  {
   "cell_type": "code",
   "execution_count": 44,
   "metadata": {},
   "outputs": [],
   "source": [
    "preprocessed_columns = list(df_preprocessed.columns)"
   ]
  },
  {
   "cell_type": "markdown",
   "metadata": {},
   "source": [
    "<h4 style=\"color:red;\">Task 9 : Perform Kmean Clustering with any K value  </h4> "
   ]
  },
  {
   "cell_type": "code",
   "execution_count": 45,
   "metadata": {},
   "outputs": [
    {
     "data": {
      "text/plain": [
       "KMeans(algorithm='auto', copy_x=True, init='k-means++', max_iter=300,\n",
       "    n_clusters=3, n_init=10, n_jobs=None, precompute_distances='auto',\n",
       "    random_state=0, tol=0.0001, verbose=0)"
      ]
     },
     "execution_count": 45,
     "metadata": {},
     "output_type": "execute_result"
    }
   ],
   "source": [
    "kmean = KMeans(n_clusters=3, random_state=0)\n",
    "kmean.fit(scaled)"
   ]
  },
  {
   "cell_type": "code",
   "execution_count": 46,
   "metadata": {},
   "outputs": [
    {
     "data": {
      "text/plain": [
       "2    63\n",
       "0    19\n",
       "1    18\n",
       "Name: kmean, dtype: int64"
      ]
     },
     "execution_count": 46,
     "metadata": {},
     "output_type": "execute_result"
    }
   ],
   "source": [
    "df_preprocessed['kmean'] = kmean.labels_\n",
    "df_preprocessed['kmean'].value_counts()"
   ]
  },
  {
   "cell_type": "markdown",
   "metadata": {},
   "source": [
    "**Calculate Silhouette Score**"
   ]
  },
  {
   "cell_type": "code",
   "execution_count": 47,
   "metadata": {},
   "outputs": [],
   "source": [
    "from sklearn import metrics"
   ]
  },
  {
   "cell_type": "code",
   "execution_count": 48,
   "metadata": {},
   "outputs": [
    {
     "data": {
      "text/plain": [
       "0.20986676416705802"
      ]
     },
     "execution_count": 48,
     "metadata": {},
     "output_type": "execute_result"
    }
   ],
   "source": [
    "metrics.silhouette_score(scaled, kmean.labels_)"
   ]
  },
  {
   "cell_type": "markdown",
   "metadata": {},
   "source": [
    "<h4 style=\"color:red;\">Task 10 : Perform Elbow Analysis  </h4> "
   ]
  },
  {
   "cell_type": "code",
   "execution_count": 49,
   "metadata": {},
   "outputs": [],
   "source": [
    "from scipy.spatial.distance import cdist"
   ]
  },
  {
   "cell_type": "code",
   "execution_count": 50,
   "metadata": {},
   "outputs": [],
   "source": [
    "cost = []\n",
    "\n",
    "K = range(1,16)\n",
    "for k in K:\n",
    "    kmeanModel = KMeans(n_clusters=k).fit(scaled)\n",
    "    cost.append(sum(np.min(cdist(scaled, kmeanModel.cluster_centers_, 'euclidean'), axis=1)) / scaled.shape[0])"
   ]
  },
  {
   "cell_type": "code",
   "execution_count": 51,
   "metadata": {},
   "outputs": [
    {
     "data": {
      "image/png": "[encoded data removed]",
      "text/plain": [
       "<Figure size 1080x432 with 1 Axes>"
      ]
     },
     "metadata": {
      "needs_background": "light"
     },
     "output_type": "display_data"
    }
   ],
   "source": [
    "plt.figure(figsize=(15,6))\n",
    "sns.set_context('poster')\n",
    "plt.plot(K, cost, 'bx-')\n",
    "plt.xlabel('k')\n",
    "plt.ylabel('Cost')\n",
    "plt.title('The Elbow Method showing the optimal k')\n",
    "plt.show()"
   ]
  },
  {
   "cell_type": "markdown",
   "metadata": {},
   "source": [
    "**Compare Silhouette Score with k = 3, 4 and 5**"
   ]
  },
  {
   "cell_type": "code",
   "execution_count": 52,
   "metadata": {},
   "outputs": [
    {
     "data": {
      "text/plain": [
       "2    63\n",
       "0    19\n",
       "1    18\n",
       "Name: kmeanclus3, dtype: int64"
      ]
     },
     "execution_count": 52,
     "metadata": {},
     "output_type": "execute_result"
    }
   ],
   "source": [
    "kmean = KMeans(n_clusters=3, random_state=0)\n",
    "kmean.fit(scaled)\n",
    "df_preprocessed['kmeanclus3'] = kmean.labels_\n",
    "df_preprocessed['kmeanclus3'].value_counts()"
   ]
  },
  {
   "cell_type": "code",
   "execution_count": 53,
   "metadata": {},
   "outputs": [
    {
     "data": {
      "text/plain": [
       "0.20986676416705802"
      ]
     },
     "execution_count": 53,
     "metadata": {},
     "output_type": "execute_result"
    }
   ],
   "source": [
    "metrics.silhouette_score(scaled, kmean.labels_)"
   ]
  },
  {
   "cell_type": "code",
   "execution_count": 54,
   "metadata": {},
   "outputs": [
    {
     "data": {
      "text/plain": [
       "3    46\n",
       "2    20\n",
       "1    18\n",
       "0    16\n",
       "Name: kmeanclus4, dtype: int64"
      ]
     },
     "execution_count": 54,
     "metadata": {},
     "output_type": "execute_result"
    }
   ],
   "source": [
    "kmean = KMeans(n_clusters=4, random_state=0)\n",
    "kmean.fit(scaled)\n",
    "df_preprocessed['kmeanclus4'] = kmean.labels_\n",
    "df_preprocessed['kmeanclus4'].value_counts()"
   ]
  },
  {
   "cell_type": "code",
   "execution_count": 55,
   "metadata": {},
   "outputs": [
    {
     "data": {
      "text/plain": [
       "0.041041800695645766"
      ]
     },
     "execution_count": 55,
     "metadata": {},
     "output_type": "execute_result"
    }
   ],
   "source": [
    "metrics.silhouette_score(scaled, kmean.labels_)"
   ]
  },
  {
   "cell_type": "code",
   "execution_count": 56,
   "metadata": {},
   "outputs": [
    {
     "data": {
      "text/plain": [
       "3    49\n",
       "2    26\n",
       "1    18\n",
       "4     4\n",
       "0     3\n",
       "Name: kmeanclus5, dtype: int64"
      ]
     },
     "execution_count": 56,
     "metadata": {},
     "output_type": "execute_result"
    }
   ],
   "source": [
    "kmean = KMeans(n_clusters=5, random_state=0)\n",
    "kmean.fit(scaled)\n",
    "df_preprocessed['kmeanclus5'] = kmean.labels_\n",
    "df_preprocessed['kmeanclus5'].value_counts()"
   ]
  },
  {
   "cell_type": "code",
   "execution_count": 57,
   "metadata": {},
   "outputs": [
    {
     "data": {
      "text/plain": [
       "0.04216009679434813"
      ]
     },
     "execution_count": 57,
     "metadata": {},
     "output_type": "execute_result"
    }
   ],
   "source": [
    "metrics.silhouette_score(scaled, kmean.labels_)"
   ]
  },
  {
   "cell_type": "code",
   "execution_count": 58,
   "metadata": {},
   "outputs": [
    {
     "data": {
      "text/plain": [
       "1    31\n",
       "4    19\n",
       "3    18\n",
       "5    14\n",
       "2    12\n",
       "0     6\n",
       "Name: kmeanclus6, dtype: int64"
      ]
     },
     "execution_count": 58,
     "metadata": {},
     "output_type": "execute_result"
    }
   ],
   "source": [
    "kmean = KMeans(n_clusters=6, random_state=0)\n",
    "kmean.fit(scaled)\n",
    "df_preprocessed['kmeanclus6'] = kmean.labels_\n",
    "df_preprocessed['kmeanclus6'].value_counts()"
   ]
  },
  {
   "cell_type": "code",
   "execution_count": 59,
   "metadata": {},
   "outputs": [
    {
     "data": {
      "text/plain": [
       "0.046543795135507084"
      ]
     },
     "execution_count": 59,
     "metadata": {},
     "output_type": "execute_result"
    }
   ],
   "source": [
    "metrics.silhouette_score(scaled, kmean.labels_)"
   ]
  },
  {
   "cell_type": "markdown",
   "metadata": {},
   "source": [
    "<h4 style=\"color:red;\">Task 12 : Do profiling with clusters and make radar plot only on GPRS, CALL, SMS, RECHARGE </h4> "
   ]
  },
  {
   "cell_type": "markdown",
   "metadata": {},
   "source": [
    "**For this task make variable 'outbound' and extract all columns name in which 'OB' appears**"
   ]
  },
  {
   "cell_type": "code",
   "execution_count": 60,
   "metadata": {},
   "outputs": [],
   "source": [
    "outbound = [col for col in df.columns if 'OB' in col]"
   ]
  },
  {
   "cell_type": "markdown",
   "metadata": {},
   "source": [
    "**For this task make variable 'outbound' and extract all columns name in which 'OB' appears**"
   ]
  },
  {
   "cell_type": "code",
   "execution_count": 61,
   "metadata": {},
   "outputs": [],
   "source": [
    "inbound = [col for col in df.columns if 'IB' in col]"
   ]
  },
  {
   "cell_type": "markdown",
   "metadata": {},
   "source": [
    "**For this task make variable 'gprs' and extract all columns name in which 'GPRS' appears**"
   ]
  },
  {
   "cell_type": "code",
   "execution_count": 62,
   "metadata": {},
   "outputs": [],
   "source": [
    "gprs = [col for col in df.columns if 'GPRS' in col]"
   ]
  },
  {
   "cell_type": "code",
   "execution_count": 63,
   "metadata": {},
   "outputs": [],
   "source": [
    "scaled['kmean'] = df_preprocessed['kmean']"
   ]
  },
  {
   "cell_type": "markdown",
   "metadata": {},
   "source": [
    "**Group on cluster and then mean on all the columns**"
   ]
  },
  {
   "cell_type": "code",
   "execution_count": 64,
   "metadata": {},
   "outputs": [
    {
     "data": {
      "text/html": [
       "<div>\n",
       "<style scoped>\n",
       "    .dataframe tbody tr th:only-of-type {\n",
       "        vertical-align: middle;\n",
       "    }\n",
       "\n",
       "    .dataframe tbody tr th {\n",
       "        vertical-align: top;\n",
       "    }\n",
       "\n",
       "    .dataframe thead th {\n",
       "        text-align: right;\n",
       "    }\n",
       "</style>\n",
       "<table border=\"1\" class=\"dataframe\">\n",
       "  <thead>\n",
       "    <tr style=\"text-align: right;\">\n",
       "      <th></th>\n",
       "      <th>kmean</th>\n",
       "      <th>U_OB_VC_CNT_T6</th>\n",
       "      <th>U_OB_VC_CC_CNT_T6</th>\n",
       "      <th>U_OB_VC_DUR_T6</th>\n",
       "      <th>U_OB_VC_REV_T6</th>\n",
       "      <th>U_OB_DAY_VC_DUR_T6</th>\n",
       "      <th>U_OB_EVN_VC_CNT_T6</th>\n",
       "      <th>U_OB_EVN_VC_CC_CNT_T6</th>\n",
       "      <th>U_OB_EVN_VC_DUR_T6</th>\n",
       "      <th>U_OB_NGT_VC_CNT_T6</th>\n",
       "      <th>...</th>\n",
       "      <th>RECH_50_100_AMT_T6</th>\n",
       "      <th>RECH_100_150_AMT_T6</th>\n",
       "      <th>RECH_150_200_AMT_T6</th>\n",
       "      <th>RECH_200_250_AMT_T6</th>\n",
       "      <th>RECH_250_300_AMT_T6</th>\n",
       "      <th>RECH_300_500_AMT_T6</th>\n",
       "      <th>RECH_GT_1000_AMT_T6</th>\n",
       "      <th>RECEIVE_AMT_T6</th>\n",
       "      <th>SHARE_AMT_T6</th>\n",
       "      <th>LOAN_AMT_T6</th>\n",
       "    </tr>\n",
       "  </thead>\n",
       "  <tbody>\n",
       "    <tr>\n",
       "      <th>0</th>\n",
       "      <td>0.0</td>\n",
       "      <td>0.189172</td>\n",
       "      <td>0.282790</td>\n",
       "      <td>0.071521</td>\n",
       "      <td>0.043109</td>\n",
       "      <td>0.095053</td>\n",
       "      <td>0.183994</td>\n",
       "      <td>0.254014</td>\n",
       "      <td>0.077769</td>\n",
       "      <td>0.104377</td>\n",
       "      <td>...</td>\n",
       "      <td>0.101587</td>\n",
       "      <td>0.129630</td>\n",
       "      <td>0.114871</td>\n",
       "      <td>0.018519</td>\n",
       "      <td>0.000000</td>\n",
       "      <td>0.000000</td>\n",
       "      <td>0.085997</td>\n",
       "      <td>0.000000</td>\n",
       "      <td>0.000000</td>\n",
       "      <td>0.111111</td>\n",
       "    </tr>\n",
       "    <tr>\n",
       "      <th>1</th>\n",
       "      <td>1.0</td>\n",
       "      <td>0.304171</td>\n",
       "      <td>0.399192</td>\n",
       "      <td>0.254688</td>\n",
       "      <td>0.041268</td>\n",
       "      <td>0.230722</td>\n",
       "      <td>0.348339</td>\n",
       "      <td>0.422286</td>\n",
       "      <td>0.233447</td>\n",
       "      <td>0.192761</td>\n",
       "      <td>...</td>\n",
       "      <td>0.192460</td>\n",
       "      <td>0.191667</td>\n",
       "      <td>0.012531</td>\n",
       "      <td>0.000000</td>\n",
       "      <td>0.000000</td>\n",
       "      <td>0.064815</td>\n",
       "      <td>0.000000</td>\n",
       "      <td>0.000000</td>\n",
       "      <td>0.000000</td>\n",
       "      <td>0.233333</td>\n",
       "    </tr>\n",
       "    <tr>\n",
       "      <th>2</th>\n",
       "      <td>2.0</td>\n",
       "      <td>0.193169</td>\n",
       "      <td>0.242591</td>\n",
       "      <td>0.142358</td>\n",
       "      <td>0.060991</td>\n",
       "      <td>0.144424</td>\n",
       "      <td>0.220691</td>\n",
       "      <td>0.246720</td>\n",
       "      <td>0.152887</td>\n",
       "      <td>0.117725</td>\n",
       "      <td>...</td>\n",
       "      <td>0.153311</td>\n",
       "      <td>0.144312</td>\n",
       "      <td>0.028166</td>\n",
       "      <td>0.029101</td>\n",
       "      <td>0.015873</td>\n",
       "      <td>0.036508</td>\n",
       "      <td>0.000000</td>\n",
       "      <td>0.028753</td>\n",
       "      <td>0.015873</td>\n",
       "      <td>0.234921</td>\n",
       "    </tr>\n",
       "  </tbody>\n",
       "</table>\n",
       "<p>3 rows × 142 columns</p>\n",
       "</div>"
      ],
      "text/plain": [
       "   kmean  U_OB_VC_CNT_T6  U_OB_VC_CC_CNT_T6  U_OB_VC_DUR_T6  U_OB_VC_REV_T6  \\\n",
       "0    0.0        0.189172           0.282790        0.071521        0.043109   \n",
       "1    1.0        0.304171           0.399192        0.254688        0.041268   \n",
       "2    2.0        0.193169           0.242591        0.142358        0.060991   \n",
       "\n",
       "   U_OB_DAY_VC_DUR_T6  U_OB_EVN_VC_CNT_T6  U_OB_EVN_VC_CC_CNT_T6  \\\n",
       "0            0.095053            0.183994               0.254014   \n",
       "1            0.230722            0.348339               0.422286   \n",
       "2            0.144424            0.220691               0.246720   \n",
       "\n",
       "   U_OB_EVN_VC_DUR_T6  U_OB_NGT_VC_CNT_T6  ...  RECH_50_100_AMT_T6  \\\n",
       "0            0.077769            0.104377  ...            0.101587   \n",
       "1            0.233447            0.192761  ...            0.192460   \n",
       "2            0.152887            0.117725  ...            0.153311   \n",
       "\n",
       "   RECH_100_150_AMT_T6  RECH_150_200_AMT_T6  RECH_200_250_AMT_T6  \\\n",
       "0             0.129630             0.114871             0.018519   \n",
       "1             0.191667             0.012531             0.000000   \n",
       "2             0.144312             0.028166             0.029101   \n",
       "\n",
       "   RECH_250_300_AMT_T6  RECH_300_500_AMT_T6  RECH_GT_1000_AMT_T6  \\\n",
       "0             0.000000             0.000000             0.085997   \n",
       "1             0.000000             0.064815             0.000000   \n",
       "2             0.015873             0.036508             0.000000   \n",
       "\n",
       "   RECEIVE_AMT_T6  SHARE_AMT_T6  LOAN_AMT_T6  \n",
       "0        0.000000      0.000000     0.111111  \n",
       "1        0.000000      0.000000     0.233333  \n",
       "2        0.028753      0.015873     0.234921  \n",
       "\n",
       "[3 rows x 142 columns]"
      ]
     },
     "execution_count": 64,
     "metadata": {},
     "output_type": "execute_result"
    }
   ],
   "source": [
    "profiled = scaled.groupby('kmean').mean().reset_index()\n",
    "profiled.head()"
   ]
  },
  {
   "cell_type": "code",
   "execution_count": 65,
   "metadata": {},
   "outputs": [],
   "source": [
    "import plotly\n",
    "plotly.tools.set_credentials_file(username='salman1127', api_key='KJQqdaXV8CFO3QLEQqhE7K')"
   ]
  },
  {
   "cell_type": "code",
   "execution_count": 66,
   "metadata": {},
   "outputs": [],
   "source": [
    "import plotly.plotly as py\n",
    "import plotly.graph_objs as go"
   ]
  },
  {
   "cell_type": "markdown",
   "metadata": {},
   "source": [
    "**Make Rador Plot for all columns of calls**"
   ]
  },
  {
   "cell_type": "code",
   "execution_count": 67,
   "metadata": {},
   "outputs": [],
   "source": [
    "radar_data = [\n",
    "    go.Scatterpolar(\n",
    "      r = list(profiled.loc[0,outbound]),\n",
    "      theta = outbound,\n",
    "      fill = 'tonext',\n",
    "      fillcolor=None,\n",
    "      name = 'Cluster 0'\n",
    "    ),\n",
    "    go.Scatterpolar(\n",
    "      r = list(profiled.loc[1,outbound]),\n",
    "      theta = outbound,\n",
    "      fill = 'tonext',\n",
    "      fillcolor=None,\n",
    "      name = 'Cluster 1'\n",
    "    ),\n",
    "    go.Scatterpolar(\n",
    "      r = list(profiled.loc[2,outbound]),\n",
    "      theta = outbound,\n",
    "      fill = 'tonext',\n",
    "      fillcolor=None,\n",
    "      name = 'Cluster 2'\n",
    "    )\n",
    "]"
   ]
  },
  {
   "cell_type": "code",
   "execution_count": 68,
   "metadata": {},
   "outputs": [],
   "source": [
    "radar_layout = go.Layout(polar = dict(radialaxis = dict(visible = True,range = [0, 1])), showlegend = True)"
   ]
  },
  {
   "cell_type": "code",
   "execution_count": 69,
   "metadata": {},
   "outputs": [
    {
     "name": "stderr",
     "output_type": "stream",
     "text": [
      "C:\\ProgramData\\Anaconda3\\lib\\site-packages\\IPython\\core\\display.py:689: UserWarning:\n",
      "\n",
      "Consider using IPython.display.IFrame instead\n",
      "\n"
     ]
    },
    {
     "data": {
      "text/html": [
       "<iframe id=\"igraph\" scrolling=\"no\" style=\"border:none;\" seamless=\"seamless\" src=\"https://plot.ly/~salman1127/28.embed\" height=\"525px\" width=\"100%\"></iframe>"
      ],
      "text/plain": [
       "<plotly.tools.PlotlyDisplay object>"
      ]
     },
     "execution_count": 69,
     "metadata": {},
     "output_type": "execute_result"
    }
   ],
   "source": [
    "fig = go.Figure(data=radar_data, layout=radar_layout)\n",
    "py.iplot(fig, filename = \"radar1\")"
   ]
  },
  {
   "cell_type": "markdown",
   "metadata": {},
   "source": [
    "**Make Rador Plot for inbound calls**"
   ]
  },
  {
   "cell_type": "code",
   "execution_count": 70,
   "metadata": {},
   "outputs": [
    {
     "name": "stderr",
     "output_type": "stream",
     "text": [
      "C:\\ProgramData\\Anaconda3\\lib\\site-packages\\IPython\\core\\display.py:689: UserWarning:\n",
      "\n",
      "Consider using IPython.display.IFrame instead\n",
      "\n"
     ]
    },
    {
     "data": {
      "text/html": [
       "<iframe id=\"igraph\" scrolling=\"no\" style=\"border:none;\" seamless=\"seamless\" src=\"https://plot.ly/~salman1127/28.embed\" height=\"525px\" width=\"100%\"></iframe>"
      ],
      "text/plain": [
       "<plotly.tools.PlotlyDisplay object>"
      ]
     },
     "execution_count": 70,
     "metadata": {},
     "output_type": "execute_result"
    }
   ],
   "source": [
    "radar_data = [\n",
    "    go.Scatterpolar(\n",
    "      r = list(profiled.loc[0,inbound]),\n",
    "      theta = inbound,\n",
    "      fill = 'tonext',\n",
    "      fillcolor=None,\n",
    "      name = 'Cluster 0'\n",
    "    ),\n",
    "    go.Scatterpolar(\n",
    "      r = list(profiled.loc[1,inbound]),\n",
    "      theta = inbound,\n",
    "      fill = 'tonext',\n",
    "      fillcolor=None,\n",
    "      name = 'Cluster 1'\n",
    "    ),\n",
    "    go.Scatterpolar(\n",
    "      r = list(profiled.loc[2,inbound]),\n",
    "      theta = inbound,\n",
    "      fill = 'tonext',\n",
    "      fillcolor=None,\n",
    "      name = 'Cluster 2'\n",
    "    )\n",
    "]\n",
    "radar_layout = go.Layout(polar = dict(radialaxis = dict(visible = True,range = [0, 1])), showlegend = True)\n",
    "fig = go.Figure(data=radar_data, layout=radar_layout)\n",
    "py.iplot(fig, filename = \"radar1\")"
   ]
  },
  {
   "cell_type": "markdown",
   "metadata": {},
   "source": [
    "**Make Rador Plot for gprs**"
   ]
  },
  {
   "cell_type": "code",
   "execution_count": 71,
   "metadata": {},
   "outputs": [
    {
     "name": "stderr",
     "output_type": "stream",
     "text": [
      "C:\\ProgramData\\Anaconda3\\lib\\site-packages\\IPython\\core\\display.py:689: UserWarning:\n",
      "\n",
      "Consider using IPython.display.IFrame instead\n",
      "\n"
     ]
    },
    {
     "data": {
      "text/html": [
       "<iframe id=\"igraph\" scrolling=\"no\" style=\"border:none;\" seamless=\"seamless\" src=\"https://plot.ly/~salman1127/28.embed\" height=\"525px\" width=\"100%\"></iframe>"
      ],
      "text/plain": [
       "<plotly.tools.PlotlyDisplay object>"
      ]
     },
     "execution_count": 71,
     "metadata": {},
     "output_type": "execute_result"
    }
   ],
   "source": [
    "radar_data = [\n",
    "    go.Scatterpolar(\n",
    "      r = list(profiled.loc[0,gprs]),\n",
    "      theta = gprs,\n",
    "      fill = 'tonext',\n",
    "      fillcolor=None,\n",
    "      name = 'Cluster 0'\n",
    "    ),\n",
    "    go.Scatterpolar(\n",
    "      r = list(profiled.loc[1,gprs]),\n",
    "      theta = gprs,\n",
    "      fill = 'tonext',\n",
    "      fillcolor=None,\n",
    "      name = 'Cluster 1'\n",
    "    ),\n",
    "    go.Scatterpolar(\n",
    "      r = list(profiled.loc[2,gprs]),\n",
    "      theta = gprs,\n",
    "      fill = 'tonext',\n",
    "      fillcolor=None,\n",
    "      name = 'Cluster 2'\n",
    "    )\n",
    "]\n",
    "radar_layout = go.Layout(polar = dict(radialaxis = dict(visible = True,range = [0, .5])), showlegend = True)\n",
    "fig = go.Figure(data=radar_data, layout=radar_layout)\n",
    "py.iplot(fig, filename = \"radar1\")"
   ]
  },
  {
   "cell_type": "markdown",
   "metadata": {},
   "source": [
    "."
   ]
  },
  {
   "cell_type": "code",
   "execution_count": null,
   "metadata": {},
   "outputs": [],
   "source": []
  }
 ],
 "metadata": {
  "kernelspec": {
   "display_name": "Python 3",
   "language": "python",
   "name": "python3"
  },
  "language_info": {
   "codemirror_mode": {
    "name": "ipython",
    "version": 3
   },
   "file_extension": ".py",
   "mimetype": "text/x-python",
   "name": "python",
   "nbconvert_exporter": "python",
   "pygments_lexer": "ipython3",
   "version": "3.6.8"
  }
 },
 "nbformat": 4,
 "nbformat_minor": 2
}
